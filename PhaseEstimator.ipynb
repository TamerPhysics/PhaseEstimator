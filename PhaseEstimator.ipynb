{
 "cells": [
  {
   "cell_type": "markdown",
   "metadata": {},
   "source": [
    "# My Qiskit Implementation of the Quantum Phase Estimator\n",
    "\n",
    "This is my implementation of the phase estimator algorithm, which is also the Inverse Quantum Fourier Transform. This code was inspired by this [edX course by TU Delft](https://www.edx.org/course/architecture-algorithms-quantum-computer-internet). This implementation makes use of IBM's Qiskit language, with the possibility of running the circuit on either a simulator or on an actual IBM quantum computer.\n",
    "\n",
    "## Motivation\n",
    "\n",
    "The idea behind this algorithm is to estimate/measure the phase introduced by a unitary operator of the form\n",
    "\n",
    "<p style=\"text-align: center;\">\n",
    "$U = \\begin{pmatrix} \n",
    "1 & 0 \\\\ \n",
    "0 & e^{i\\phi}\n",
    "\\end{pmatrix}$.\n",
    "</p>\n",
    "\n",
    "When applied to the state $\\left|+\\right\\rangle$, this unitary gives:\n",
    "\n",
    "<p style=\"text-align: center;\">\n",
    "$U \\left|+\\right\\rangle = U (\\left| 0\\right\\rangle+ \\left| 1\\right\\rangle))/\\sqrt{2} = (\\left|0\\right\\rangle + e^{i\\phi}\\left|1\\right\\rangle)/\\sqrt{2}$.\n",
    "</p>\n",
    "\n",
    "So it adds a relative phase to the second component, $\\left|1\\right\\rangle$, of the state. If we were to measure the resulting state, we would not be able to learn about the value of $\\phi$, as the state would collapse to either $\\left|0\\right\\rangle$ or $\\left|1\\right\\rangle$ with 50% probability for each.\n",
    "\n",
    "This method then comes to the rescue. Given a gate which implements the unitary operation, $U$, we can estimate the phase $\\phi$, assuming we can use the gate multiple times. The algorithm takes advantage of the fact that if we apply $U$ multiple times we get, for example: \n",
    "\n",
    "<p style=\"text-align: center;\">\n",
    "$U^2 \\left|+\\right\\rangle = (\\left|0\\right\\rangle + e^{i.2\\phi}\\left|1\\right\\rangle)/\\sqrt{2}$, and\n",
    "</p>\n",
    "\n",
    "<p style=\"text-align: center;\">\n",
    "$U^4 \\left|+\\right\\rangle = (\\left|0\\right\\rangle + e^{i.4\\phi}\\left|1\\right\\rangle)/\\sqrt{2}$, etc.\n",
    "</p>\n",
    "\n",
    "And, eventually if for some integer, $n$, the value of $n\\phi$ exceeds $2\\pi$, then we would be implementing a phase of $n\\phi-2\\pi$, or more accurately $n\\phi$ ``mod`` $2\\pi$. So by applying $U$ $2^n$ times for $n=1,2,3,...$ we can learn about $\\phi$ more and more precisely.\n",
    "\n",
    "[Here](https://qiskit.org/textbook/ch-algorithms/quantum-phase-estimation.html) is a good place to read about the phase estimator in more detail.\n",
    "\n",
    "## Preliminaries\n",
    "\n",
    "Before introducing the code, here are some preliminaries. We write our angle $\\phi$ as \n",
    "\n",
    "<p style=\"text-align: center;\">\n",
    "$\\phi = 2\\pi \\times f$,\n",
    "</p>\n",
    "\n",
    "in other words, as a fraction of $2\\pi$.\n",
    "\n",
    "Let's say $\\phi=\\pi$, then $f=1/2$. We then write $f$ as a _binary fraction:_ $f=0.1$. In binary fractions:\n",
    "\n",
    "<p style=\"text-align: center;\">\n",
    "$0.5 = 2^{-1} \\rightarrow 0.1$\n",
    "</p>\n",
    "\n",
    "<p style=\"text-align: center;\">\n",
    "$0.25 = 2^{-2} \\rightarrow 0.01$\n",
    "</p>\n",
    "\n",
    "<p style=\"text-align: center;\">\n",
    "$0.75 = 2^{-1}+2^{-2} \\rightarrow 0.11$, \n",
    "</p>\n",
    "\n",
    "and so on.\n",
    "\n",
    "The following circuit returns the value of $f$ in this binary fraction format, starting at the first digit after the decimal point. (Since $f<1$ there is no digits before the decimal point!) For example if $f=0.1011$ in binary, the returned qubits at the end of the circuit will be 1, 0, 1 and 1, in this order.\n",
    "\n",
    "## The code\n",
    "\n",
    "I implement the phase estimator as a class, ``Phase_est``, which can be instatiated with one argument, which is the value of $f$. In the code I called it ``phi``, however. When a ``Phase_est`` object is created, a Qiskit circuit is built. The ``draw()`` method used to display the circuit, and the ``ex()`` method to execute it. By default, the code will run on the local simulator included with the Qiskit package. However, to run it on an actual IBM quantum computer, create an object with ``mycircuit = Phase_est(f, sim=False)``, which will pick the machine with the right number of qubits, and with the least number of jobs in the queue.\n",
    "\n",
    "To plot the results, the method ``res()`` is used. If we're using a real quantum computer (not the simulator,) ``res()`` will check the status of the job. If the results are not ready yet, an exception is returned."
   ]
  },
  {
   "cell_type": "code",
   "execution_count": 2,
   "metadata": {},
   "outputs": [],
   "source": [
    "import numpy as nn\n",
    "import matplotlib.pyplot as pl\n",
    "\n",
    "import qiskit\n",
    "import qiskit.tools.visualization as qviz \n",
    "from qiskit import IBMQ\n",
    "\n",
    "class Phase_est :\n",
    "\n",
    "    # the argument of __init__ is phi as a fraction of 2pi, \n",
    "    # which is called f, in the text\n",
    "    def __init__(self, phi, sim=True) :\n",
    "    \n",
    "        self.phi = phi\n",
    "        self.sim = sim\n",
    "        self.be = None\n",
    "    \n",
    "        # Find the number required bits for exact answer, up to a \n",
    "        # maximum of 8 bits\n",
    "        nbits=1\n",
    "        while phi * 2**nbits % 1 != 0 and nbits <= 8 : nbits=nbits+1\n",
    "        nbits = min(nbits, 8)\n",
    "        self.nbits = nbits\n",
    "        \n",
    "        # create circuit with nbits qubits, and nbits classical\n",
    "        # measurement channels if no simulator\n",
    "        if sim : qc = qiskit.QuantumCircuit(nbits)\n",
    "        else : qc = qiskit.QuantumCircuit(nbits, nbits)\n",
    "        \n",
    "        for iq in range(nbits) :\n",
    "        \n",
    "            # Initial Hadamard and rotation to prepare each qubit\n",
    "            # in the Fourier state, so we inverse-Fourier transform it\n",
    "            qc.h(iq)\n",
    "            qc.u1( (( 2**(nbits-1-iq) *phi) % 1) * 2*nn.pi, iq )\n",
    "        \n",
    "        qc.barrier()\n",
    "        \n",
    "        for iq in range(nbits) :\n",
    "            \n",
    "            # this Hadamard acts like a measurement on the \n",
    "            # first bit after the decimal in binary representation\n",
    "            # of phi\n",
    "            qc.h(iq)\n",
    "            \n",
    "            # subtract this \"measured\" bit from the next qubit's\n",
    "            # next significant figure\n",
    "            for iq2 in range(iq+1, nbits) :\n",
    "                qc.cu1( -nn.pi/2**(iq2-iq), iq2, iq )\n",
    "        \n",
    "        # Include measurement if we're using a real QC\n",
    "        if not sim : qc.measure(range(nbits), range(nbits))\n",
    "        \n",
    "        self.qc = qc\n",
    "        \n",
    "\n",
    "\n",
    "\n",
    "    def draw(self) :\n",
    "    \n",
    "        # Draw circuit\n",
    "        fig, ax = pl.subplots()\n",
    "        qviz.circuit_drawer(self.qc, output='mpl', ax=ax)\n",
    "        #ax.set_title(self.be.name())\n",
    "        \n",
    "        \n",
    "    def ex(self, be=None) :\n",
    "        \n",
    "        # Before executing, check if the execution was not\n",
    "        # run before, by check for the existence of self.job\n",
    "        try :\n",
    "            if self.job.status() != self.job.status().DONE :\n",
    "                raise Exception(\"Still working on previous run\")\n",
    "        except AttributeError :\n",
    "            pass\n",
    "        \n",
    "        # If the backend is specified, use it.\n",
    "        if be!=None : \n",
    "            if be=='statevector_simulator' :\n",
    "                self.be = qiskit.Aer.get_backend('statevector_simulator')\n",
    "            else : \n",
    "                if len(IBMQ.get_provider().backends(be)) > 0:\n",
    "                    self.be = IBMQ.get_provider().backends(be)[0]\n",
    "                else : \n",
    "                    self.be = qiskit.Aer.get_backend('statevector_simulator')\n",
    "                    print()\n",
    "                    print('Incorrect backend name. Using the simulator.')\n",
    "                    print()\n",
    "                \n",
    "        # choose the QC/simulator backend\n",
    "        elif not self.sim : \n",
    "            \n",
    "            # Load IBMQ account, if it's not already loaded\n",
    "            if IBMQ.active_account()==None : IBMQ.load_account()\n",
    "\n",
    "            if self.be==None or self.be.name()=='statevector_simulator' :\n",
    "                \n",
    "                # If we need 5 qubits or less, pick one of the quantum \n",
    "                # processors with 5 qubits\n",
    "                if self.nbits <= 5 :\n",
    "                    be5q=IBMQ.get_provider().backends(simulator=False, \n",
    "                                                      filters=lambda x: x.configuration().n_qubits==5)\n",
    "                    self.be = qiskit.providers.ibmq.least_busy(be5q)\n",
    "                    \n",
    "                # If nbits between 6 and 15 inclusive, then use the Melbourne\n",
    "                # quantum processor\n",
    "                elif self.nbits <= 15 : \n",
    "                    # 16-qubit quantum computer\n",
    "                    self.be=IBMQ.get_provider().backends('ibmq_16_melbourne')[0]\n",
    "                    \n",
    "                # Don't run if nbits >= 16\n",
    "                else :\n",
    "                    raise Exception(\"Too many qubits for available physical backends. Try simulator.\")\n",
    "        \n",
    "            print()\n",
    "            print('Using backend = ', self.be.name())\n",
    "            print()\n",
    "        \n",
    "        # simulator specified\n",
    "        else :    \n",
    "            self.be = qiskit.Aer.get_backend('statevector_simulator')\n",
    "        \n",
    "        # execution ===============\n",
    "        self.job = qiskit.execute(self.qc, self.be)\n",
    "        # =========================\n",
    "        \n",
    "    # Plot results\n",
    "    def res(self) :\n",
    "        \n",
    "        # check if results are ready in the case of using a QC backend\n",
    "        if self.be.name()=='statevector_simulator' or self.job.done() :\n",
    "\n",
    "            # results\n",
    "            res = self.job.result()\n",
    "            cts = res.get_counts()\n",
    "            \n",
    "            # plot results\n",
    "            return qviz.plot_histogram(cts, title=self.be.name())\n",
    "\n",
    "        else : \n",
    "            raise Exception('Job not ready yet. Status = '+ str(self.job.status()))"
   ]
  },
  {
   "cell_type": "markdown",
   "metadata": {},
   "source": [
    "## Simulation Run\n",
    "\n",
    "Let's start by simulating the quantum phase estimator for $f=3/8=1/4+1/8$, which in binary fraction is $f=0.011$. This corresponds to an angle $\\phi=3\\pi/4$. We start by creating the circuit:"
   ]
  },
  {
   "cell_type": "code",
   "execution_count": 12,
   "metadata": {},
   "outputs": [],
   "source": [
    "qc = Phase_est(3/8, sim=True)"
   ]
  },
  {
   "cell_type": "markdown",
   "metadata": {},
   "source": [
    "Then, we draw it:"
   ]
  },
  {
   "cell_type": "code",
   "execution_count": 13,
   "metadata": {},
   "outputs": [
    {
     "data": {
      "image/png": "[encoded data removed]",
      "text/plain": [
       "<Figure size 719.992x204.68 with 1 Axes>"
      ]
     },
     "metadata": {},
     "output_type": "display_data"
    }
   ],
   "source": [
    "qc.draw()"
   ]
  },
  {
   "cell_type": "markdown",
   "metadata": {},
   "source": [
    "Notice a few things:\n",
    "* To the left of a barrier is a Hadamard gate and a rotation. This pair of gates prepares the state, which will then be fed to the inverse Fourier transform part of the circuit, to the right of the barrier.\n",
    "* The $U_1$ gate corresponds to the a unitary operation of the same form as U, above, where the angle is marked on the gate. If we go from bottom to top, the rotation angles are $3\\pi/4$, $3\\pi/2$ and $3\\pi$, which has been changed to $\\pi$, because it is equivalent. This is as described in the introduction above.\n",
    "\n",
    "We can then run the circuit:"
   ]
  },
  {
   "cell_type": "code",
   "execution_count": 14,
   "metadata": {},
   "outputs": [],
   "source": [
    "qc.ex()"
   ]
  },
  {
   "cell_type": "markdown",
   "metadata": {},
   "source": [
    "Plot the results:"
   ]
  },
  {
   "cell_type": "code",
   "execution_count": 15,
   "metadata": {},
   "outputs": [
    {
     "data": {
      "image/png": "[encoded data removed]",
      "text/plain": [
       "<Figure size 504x360 with 1 Axes>"
      ]
     },
     "execution_count": 15,
     "metadata": {},
     "output_type": "execute_result"
    }
   ],
   "source": [
    "qc.res()"
   ]
  },
  {
   "cell_type": "markdown",
   "metadata": {},
   "source": [
    "In this case, the answer recovered is '011' corresponding to the digits after the decimal point in the binary fraction representation of $f=0.011$.\n",
    "\n",
    "Another way to look at this, since this is a simulation, is to look at the calculated state vector. This would not be available if this was run on an actual quantum computer. The state vector can be accessed by accessing the ``job`` attribute of ``qc``, which is an instance of the Qiskit ``Job`` class."
   ]
  },
  {
   "cell_type": "code",
   "execution_count": 16,
   "metadata": {},
   "outputs": [
    {
     "data": {
      "text/plain": [
       "array([ 2.28450564e-17+1.67383822e-17j, -3.39479767e-17+1.73684940e-16j,\n",
       "       -4.44939578e-17+1.55516260e-16j,  1.00000000e+00-3.88594719e-16j,\n",
       "        9.38984348e-17-6.65283447e-17j,  1.90957223e-16-5.12202597e-17j,\n",
       "        3.87727691e-17+1.67383822e-17j,  2.50927311e-32+1.43665359e-16j])"
      ]
     },
     "execution_count": 16,
     "metadata": {},
     "output_type": "execute_result"
    }
   ],
   "source": [
    "qc.job.result().get_statevector()"
   ]
  },
  {
   "cell_type": "markdown",
   "metadata": {},
   "source": [
    "## Run on an IBM Quantum Computer\n",
    "\n",
    "Now, let's run the circuit on an actual IBM quantum computer. This time, I'll change the angle to $\\phi=5\\pi/8$, or $f=0.101$.\n",
    "\n",
    "I will create the circuit, execute it, and then immediately try to access the results. Typically, the jobs are queued on the IBM quantum computers, which makes them not available immediately. I have included this in the ``res()`` function, which will raise and exception if it finds the results not ready, as seen below."
   ]
  },
  {
   "cell_type": "code",
   "execution_count": 17,
   "metadata": {},
   "outputs": [
    {
     "name": "stdout",
     "output_type": "stream",
     "text": [
      "\n",
      "Using backend =  ibmq_essex\n",
      "\n"
     ]
    },
    {
     "ename": "Exception",
     "evalue": "Job not ready yet. Status = JobStatus.VALIDATING",
     "output_type": "error",
     "traceback": [
      "\u001b[0;31m---------------------------------------------------------------------------\u001b[0m",
      "\u001b[0;31mException\u001b[0m                                 Traceback (most recent call last)",
      "\u001b[0;32m<ipython-input-17-89af18a78981>\u001b[0m in \u001b[0;36m<module>\u001b[0;34m\u001b[0m\n\u001b[1;32m      1\u001b[0m \u001b[0mqc2\u001b[0m \u001b[0;34m=\u001b[0m \u001b[0mPhase_est\u001b[0m\u001b[0;34m(\u001b[0m\u001b[0;36m5\u001b[0m\u001b[0;34m/\u001b[0m\u001b[0;36m8\u001b[0m\u001b[0;34m,\u001b[0m \u001b[0msim\u001b[0m\u001b[0;34m=\u001b[0m\u001b[0;32mFalse\u001b[0m\u001b[0;34m)\u001b[0m\u001b[0;34m\u001b[0m\u001b[0;34m\u001b[0m\u001b[0m\n\u001b[1;32m      2\u001b[0m \u001b[0mqc2\u001b[0m\u001b[0;34m.\u001b[0m\u001b[0mex\u001b[0m\u001b[0;34m(\u001b[0m\u001b[0;34m)\u001b[0m\u001b[0;34m\u001b[0m\u001b[0;34m\u001b[0m\u001b[0m\n\u001b[0;32m----> 3\u001b[0;31m \u001b[0mqc2\u001b[0m\u001b[0;34m.\u001b[0m\u001b[0mres\u001b[0m\u001b[0;34m(\u001b[0m\u001b[0;34m)\u001b[0m\u001b[0;34m\u001b[0m\u001b[0;34m\u001b[0m\u001b[0m\n\u001b[0m",
      "\u001b[0;32m<ipython-input-11-b7b56e1ddef8>\u001b[0m in \u001b[0;36mres\u001b[0;34m(self)\u001b[0m\n\u001b[1;32m    120\u001b[0m \u001b[0;34m\u001b[0m\u001b[0m\n\u001b[1;32m    121\u001b[0m         \u001b[0;32melse\u001b[0m \u001b[0;34m:\u001b[0m\u001b[0;34m\u001b[0m\u001b[0;34m\u001b[0m\u001b[0m\n\u001b[0;32m--> 122\u001b[0;31m             \u001b[0;32mraise\u001b[0m \u001b[0mException\u001b[0m\u001b[0;34m(\u001b[0m\u001b[0;34m'Job not ready yet. Status = '\u001b[0m\u001b[0;34m+\u001b[0m \u001b[0mstr\u001b[0m\u001b[0;34m(\u001b[0m\u001b[0mself\u001b[0m\u001b[0;34m.\u001b[0m\u001b[0mjob\u001b[0m\u001b[0;34m.\u001b[0m\u001b[0mstatus\u001b[0m\u001b[0;34m(\u001b[0m\u001b[0;34m)\u001b[0m\u001b[0;34m)\u001b[0m\u001b[0;34m)\u001b[0m\u001b[0;34m\u001b[0m\u001b[0;34m\u001b[0m\u001b[0m\n\u001b[0m",
      "\u001b[0;31mException\u001b[0m: Job not ready yet. Status = JobStatus.VALIDATING"
     ]
    }
   ],
   "source": [
    "qc2 = Phase_est(5/8, sim=False)\n",
    "qc2.ex()\n",
    "qc2.res()"
   ]
  },
  {
   "cell_type": "markdown",
   "metadata": {},
   "source": [
    "Let me also, draw the circuit:"
   ]
  },
  {
   "cell_type": "code",
   "execution_count": 23,
   "metadata": {},
   "outputs": [
    {
     "data": {
      "image/png": "[encoded data removed]",
      "text/plain": [
       "<Figure size 900.592x264.88 with 1 Axes>"
      ]
     },
     "metadata": {},
     "output_type": "display_data"
    }
   ],
   "source": [
    "qc2.draw()"
   ]
  },
  {
   "cell_type": "markdown",
   "metadata": {},
   "source": [
    "You'll notice this time additional measurement boxes. These are necessary when we run on a physical quantum computer. I made the ``Phase_est`` class add them when a physical backend is chosen."
   ]
  },
  {
   "cell_type": "code",
   "execution_count": 18,
   "metadata": {},
   "outputs": [
    {
     "ename": "Exception",
     "evalue": "Job not ready yet. Status = JobStatus.QUEUED",
     "output_type": "error",
     "traceback": [
      "\u001b[0;31m---------------------------------------------------------------------------\u001b[0m",
      "\u001b[0;31mException\u001b[0m                                 Traceback (most recent call last)",
      "\u001b[0;32m<ipython-input-18-d13ea3d57d2b>\u001b[0m in \u001b[0;36m<module>\u001b[0;34m\u001b[0m\n\u001b[1;32m      1\u001b[0m \u001b[0;31m# after waiting some time...\u001b[0m\u001b[0;34m\u001b[0m\u001b[0;34m\u001b[0m\u001b[0;34m\u001b[0m\u001b[0m\n\u001b[0;32m----> 2\u001b[0;31m \u001b[0mqc2\u001b[0m\u001b[0;34m.\u001b[0m\u001b[0mres\u001b[0m\u001b[0;34m(\u001b[0m\u001b[0;34m)\u001b[0m\u001b[0;34m\u001b[0m\u001b[0;34m\u001b[0m\u001b[0m\n\u001b[0m",
      "\u001b[0;32m<ipython-input-11-b7b56e1ddef8>\u001b[0m in \u001b[0;36mres\u001b[0;34m(self)\u001b[0m\n\u001b[1;32m    120\u001b[0m \u001b[0;34m\u001b[0m\u001b[0m\n\u001b[1;32m    121\u001b[0m         \u001b[0;32melse\u001b[0m \u001b[0;34m:\u001b[0m\u001b[0;34m\u001b[0m\u001b[0;34m\u001b[0m\u001b[0m\n\u001b[0;32m--> 122\u001b[0;31m             \u001b[0;32mraise\u001b[0m \u001b[0mException\u001b[0m\u001b[0;34m(\u001b[0m\u001b[0;34m'Job not ready yet. Status = '\u001b[0m\u001b[0;34m+\u001b[0m \u001b[0mstr\u001b[0m\u001b[0;34m(\u001b[0m\u001b[0mself\u001b[0m\u001b[0;34m.\u001b[0m\u001b[0mjob\u001b[0m\u001b[0;34m.\u001b[0m\u001b[0mstatus\u001b[0m\u001b[0;34m(\u001b[0m\u001b[0;34m)\u001b[0m\u001b[0;34m)\u001b[0m\u001b[0;34m)\u001b[0m\u001b[0;34m\u001b[0m\u001b[0;34m\u001b[0m\u001b[0m\n\u001b[0m",
      "\u001b[0;31mException\u001b[0m: Job not ready yet. Status = JobStatus.QUEUED"
     ]
    }
   ],
   "source": [
    "# after waiting some time...\n",
    "qc2.res()"
   ]
  },
  {
   "cell_type": "markdown",
   "metadata": {},
   "source": [
    "We can get information about the position of our job in the queue:"
   ]
  },
  {
   "cell_type": "code",
   "execution_count": 19,
   "metadata": {},
   "outputs": [
    {
     "data": {
      "text/plain": [
       "<QueueInfo(job_id='5e9a8f5fc73c1d0018b4a3f2', _status='job is queued', estimated_start_time='2020-04-18T05:29:00.480000+00:00', estimated_complete_time='2020-04-18T05:29:31.880000+00:00', position=3, hub_priority=1.0, group_priority=1.0, project_priority=1.0)>"
      ]
     },
     "execution_count": 19,
     "metadata": {},
     "output_type": "execute_result"
    }
   ],
   "source": [
    "qc2.job.queue_info()"
   ]
  },
  {
   "cell_type": "code",
   "execution_count": 20,
   "metadata": {},
   "outputs": [
    {
     "data": {
      "text/plain": [
       "3"
      ]
     },
     "execution_count": 20,
     "metadata": {},
     "output_type": "execute_result"
    }
   ],
   "source": [
    "qc2.job.queue_position()"
   ]
  },
  {
   "cell_type": "markdown",
   "metadata": {},
   "source": [
    "After some time, we find:"
   ]
  },
  {
   "cell_type": "code",
   "execution_count": 21,
   "metadata": {},
   "outputs": [
    {
     "data": {
      "text/plain": [
       "<JobStatus.DONE: 'job has successfully run'>"
      ]
     },
     "execution_count": 21,
     "metadata": {},
     "output_type": "execute_result"
    }
   ],
   "source": [
    "qc2.job.status()"
   ]
  },
  {
   "cell_type": "markdown",
   "metadata": {},
   "source": [
    "So now, we can finally get the results:"
   ]
  },
  {
   "cell_type": "code",
   "execution_count": 22,
   "metadata": {},
   "outputs": [
    {
     "data": {
      "image/png": "[encoded data removed]",
      "text/plain": [
       "<Figure size 504x360 with 1 Axes>"
      ]
     },
     "execution_count": 22,
     "metadata": {},
     "output_type": "execute_result"
    }
   ],
   "source": [
    "qc2.res()"
   ]
  },
  {
   "cell_type": "markdown",
   "metadata": {},
   "source": [
    "OK. First things first: I have just run a program on a **QUANTUM COMPUTER**. I hope you get to run this yourself, and get the same excitement I got the first time I ran it. We have the opportunity to play with a technology which could revolutionize the world, perhaps a few decades later!\n",
    "\n",
    "Second, well we do recover our expected '101', but now it's not the only solution. There are other solutions, such as '001', the second most likely solution, which are returned. The other solutions are due to the noisy nature of today's quantum computers.\n",
    "\n",
    "Hope you get to try this out for yourself. Download the Qiskit library in Python, and enjoy!"
   ]
  }
 ],
 "metadata": {
  "kernelspec": {
   "display_name": "Python 3",
   "language": "python",
   "name": "python3"
  },
  "language_info": {
   "codemirror_mode": {
    "name": "ipython",
    "version": 3
   },
   "file_extension": ".py",
   "mimetype": "text/x-python",
   "name": "python",
   "nbconvert_exporter": "python",
   "pygments_lexer": "ipython3",
   "version": "3.6.10"
  }
 },
 "nbformat": 4,
 "nbformat_minor": 2
}
